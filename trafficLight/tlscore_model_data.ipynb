{
 "cells": [
  {
   "cell_type": "code",
   "execution_count": 1,
   "metadata": {},
   "outputs": [],
   "source": [
    "import numpy as np\n",
    "from scipy.sparse import csr_matrix"
   ]
  },
  {
   "cell_type": "code",
   "execution_count": 6,
   "metadata": {},
   "outputs": [],
   "source": [
    "# csr_a[[0,1], :][:, [3,4]].todense()\n",
    "\n",
    "\n",
    "def get_csr_counts(relation, shape, axis=1):\n",
    "    # 1 means count of values along columns\n",
    "#     print (shape)\n",
    "    c = relation.nonzero()[axis]\n",
    "    nonzero_ids = list(set(c))\n",
    "    np_count = np.zeros(shape[axis])\n",
    "#     print (np_count.shape)\n",
    "    for i in nonzero_ids:\n",
    "#         print (i)\n",
    "        np_count[i] = len((c==i).nonzero()[0])\n",
    "    \n",
    "    return np_count\n",
    "# print (np_count)"
   ]
  },
  {
   "cell_type": "code",
   "execution_count": 161,
   "metadata": {},
   "outputs": [],
   "source": [
    "def get_all_subgraphs(mat_data, cl_ind):\n",
    "    filtered_sub = mat_data[cl_ind,:][:]\n",
    "    bigrams_count = get_csr_counts((filtered_sub>0), filtered_sub.shape)\n",
    "#     print (bigrams_count)\n",
    "#     print (\"Bigrams count matrix shape : {}\".format(bigrams_count.shape))\n",
    "    zero_count_index = np.where(bigrams_count==0)[0]\n",
    "#     print (zero_count_index)\n",
    "    one_count_index = list(np.where(bigrams_count==1)[0])\n",
    "#     print (\"One count index : {}\".format(one_count_index))\n",
    "#     print (\"Max zero count index : {} \".format(max(zero_count_index)))\n",
    "    core_bigrams_index = list(np.where(bigrams_count>1)[0])\n",
    "#     print (\"Core Bigrams index : {}\".format(len(core_bigrams_index)))\n",
    "    outer_bigrams_index = list(one_count_index + core_bigrams_index)\n",
    "    \n",
    "    bigram_induced_graph = mat_data[:][:,core_bigrams_index]\n",
    "#     print (bigram_induced_graph.shape)\n",
    "#     print (\"Bigram Induced Graph shape : {}\".format(bigram_induced_graph.shape))\n",
    "    ads_count = get_csr_counts((bigram_induced_graph>0), bigram_induced_graph.shape, axis=0)\n",
    "#     print (ads_count)\n",
    "#     csr_matrix.count_nonzero(bigram_induced_graph, axis=1)\n",
    "    ads_in_shell_index = np.where(ads_count>=1)[0]\n",
    "#     print \n",
    "    not_core_ads = list(set(list(ads_in_shell_index)) - set(cl_ind))\n",
    "    not_core_bigrams = list(set(list(one_count_index)) - set(core_bigrams_index))\n",
    "#     print (not_core_ads)\n",
    "    mat_copy = mat_data.copy().tolil()\n",
    "    for i in not_core_ads:\n",
    "        for j in not_core_bigrams:\n",
    "            mat_copy[i, j] = 0\n",
    "#     print (ads_in_shell_index)\n",
    "    shell_subgraph = mat_copy[ads_in_shell_index,:][:,outer_bigrams_index]\n",
    "    mat_copy[not_core_ads, :] = 0\n",
    "    outer_subgraph = mat_copy[ads_in_shell_index,:][:,outer_bigrams_index]\n",
    "    mat_copy[:,one_count_index] = 0\n",
    "    core_subgraph = mat_copy[ads_in_shell_index,:][:,outer_bigrams_index]\n",
    "\n",
    "    \n",
    "    return shell_subgraph.tocsr(), outer_subgraph.tocsr(), core_subgraph.tocsr()"
   ]
  },
  {
   "cell_type": "code",
   "execution_count": 136,
   "metadata": {},
   "outputs": [],
   "source": [
    "b = [[1, 0, 0, 0],\n",
    "    [0, 1, 0, 0],\n",
    "    [0, 1, 0, 0],\n",
    "    [0, 0, 0, 1]]\n",
    "csr_b = csr_matrix(b, dtype=float)\n",
    "\n",
    "csr_b = get_tf_idf(csr_b)"
   ]
  },
  {
   "cell_type": "code",
   "execution_count": 137,
   "metadata": {},
   "outputs": [
    {
     "name": "stdout",
     "output_type": "stream",
     "text": [
      "[0. 2. 0. 0.]\n",
      "(4, 1)\n",
      "[0. 1. 1. 0.]\n",
      "[]\n",
      "[1 2]\n"
     ]
    },
    {
     "data": {
      "text/plain": [
       "(<2x1 sparse matrix of type '<class 'numpy.float64'>'\n",
       " \twith 2 stored elements in Compressed Sparse Row format>,\n",
       " <2x1 sparse matrix of type '<class 'numpy.float64'>'\n",
       " \twith 2 stored elements in Compressed Sparse Row format>,\n",
       " <2x1 sparse matrix of type '<class 'numpy.float64'>'\n",
       " \twith 2 stored elements in Compressed Sparse Row format>)"
      ]
     },
     "execution_count": 137,
     "metadata": {},
     "output_type": "execute_result"
    }
   ],
   "source": [
    "get_all_subgraphs(csr_b, [1,2])"
   ]
  },
  {
   "cell_type": "code",
   "execution_count": 2,
   "metadata": {},
   "outputs": [],
   "source": [
    "def get_counts(core_mat):\n",
    "    ads_count = get_csr_counts((core_mat>0), core_mat.shape, axis=0)\n",
    "    bigrams_count = get_csr_counts((core_mat>0), core_mat.shape, axis=1)\n",
    "    \n",
    "    return ads_count, bigrams_count"
   ]
  },
  {
   "cell_type": "code",
   "execution_count": 193,
   "metadata": {},
   "outputs": [],
   "source": [
    "import math\n",
    "\n",
    "def calculate_unweighted_density(core_mat, ads_count, bigrams_count):\n",
    "    edge_weight = csr_matrix.count_nonzero(core_mat)\n",
    "    ads_core_num = len(np.where(ads_count>0)[0])\n",
    "    bigrams_core_num = len(np.where(bigrams_count>0)[0])\n",
    "#     print (ads_core_num)\n",
    "#     print (bigrams_core_num)\n",
    "    return edge_weight/(ads_core_num * bigrams_core_num + 1)\n",
    "\n",
    "def calculate_weighted_density(core_mat, ads_count, bigrams_count):\n",
    "    edge_weight = csr_matrix.sum(core_mat)\n",
    "    ads_core_num = len(np.where(ads_count>0)[0])\n",
    "    bigrams_core_num = len(np.where(bigrams_count>0)[0])\n",
    "\n",
    "    return edge_weight/(ads_core_num * bigrams_core_num)\n",
    "\n",
    "def calculate_unweighted_fraudar_score(core_mat, ads_count, bigrams_count):\n",
    "    edge_weight = csr_matrix.count_nonzero(core_mat)\n",
    "#     get_csr_counts((core_mat>0), core_mat.shape, axis=1)\n",
    "    ads_core_num = len(np.where(ads_count>0)[0])\n",
    "    bigrams_core_num = len(np.where(bigrams_count>0)[0])\n",
    "    \n",
    "    return edge_weight/(ads_core_num + bigrams_core_num)\n",
    "\n",
    "def calculate_weighted_fraudar_score(core_mat, ads_count, bigrams_count):\n",
    "    edge_weight = csr_matrix.sum(core_mat)\n",
    "    ads_core_num = len(np.where(ads_count>0)[0])\n",
    "    bigrams_core_num = len(np.where(bigrams_count>0)[0])\n",
    "    \n",
    "    return edge_weight/(ads_core_num + bigrams_core_num)\n",
    "\n",
    "def calculate_unweighted_edge_per_score(core_mat, outer_mat, bigrams_count):\n",
    "    core_edges = csr_matrix.count_nonzero(core_mat)\n",
    "    outer_edges = csr_matrix.count_nonzero(outer_mat)\n",
    "    bigrams_core_num = len(np.where(bigrams_count>0)[0])\n",
    "    \n",
    "    return ((core_edges + 1)/(outer_edges +1))*(math.log(bigrams_core_num+1))\n",
    "\n",
    "def calculate_weighted_edge_per_score(core_mat, outer_mat, bigrams_count):\n",
    "    core_edges = csr_matrix.sum(core_mat)\n",
    "    outer_edges = csr_matrix.sum(outer_mat)\n",
    "    \n",
    "    bigrams_core_num = len(np.where(bigrams_count>0)[0])\n",
    "    \n",
    "    return ((core_edges)/(outer_edges))*(math.log(sum(bigrams_count)/bigrams_core_num))\n",
    "\n",
    "def calculate_weighted_edge_per_score_old(core_mat, outer_mat, bigrams_count):\n",
    "    core_edges = csr_matrix.sum(core_mat)\n",
    "    outer_edges = csr_matrix.sum(outer_mat)\n",
    "    \n",
    "    bigrams_core_num = len(np.where(bigrams_count>0)[0])\n",
    "    \n",
    "    return ((core_edges)/(outer_edges))*(math.log(bigrams_core_num))\n",
    "\n",
    "\n",
    "def calculate_custom_score(core_mat, outer_mat):\n",
    "    bigram_degrees = np.count_nonzero(np.asarray(core_mat), axis=0)\n",
    "    bigrams_count = np.count_nonzero(core_mat, axis=1)\n",
    "    bigrams_core_num = len(np.where(bigrams_count>0)[0])\n",
    "    outer_edges = np.count_nonzero(outer_mat)\n",
    "    bigram_degrees = bigram_degrees/bigrams_core_num\n",
    "    \n",
    "    ads_count = np.count_nonzero(core_mat, axis=0)\n",
    "    ads_core_num = len(np.where(ads_count>0)[0])\n",
    "    \n",
    "    return (np.sum(bigram_degrees)/(outer_edges+1))*(math.log(bigrams_core_num+1))*(math.log(ads_core_num+1))\n",
    "# #     print (mat.shape)\n",
    "#     edges_nonzero = np.count_nonzero(mat, axis=0)\n",
    "#     unique, counts = np.unique(edges_nonzero, return_counts=True)\n",
    "#     degree_counts = dict(zip(unique, counts))\n",
    "#     numerator = 0.0\n",
    "#     denominator = 0.0\n",
    "#     half = max(mat.shape[0]/2, 2)\n",
    "#     for k, v in degree_counts.items():\n",
    "#         if k == 0:\n",
    "#             continue\n",
    "#         elif k <= half:\n",
    "#             denominator += k*v\n",
    "#         else:\n",
    "#             denominator += k*v\n",
    "#             numerator += k*v\n",
    "#     if denominator == 0.0:\n",
    "#         return 0.0\n",
    "#     else:\n",
    "#         return numerator/denominator\n",
    "\n",
    "# def calculate_weighted_edge_per_score(mat):\n",
    "#     return 0.0\n",
    "\n",
    "#Should be shell_mat instead of outer_mat, change once you figure out how to get shell subgraph.\n",
    "def calculate_unweighted_modularity_score(core_mat, outer_mat, total_edges):\n",
    "#     total_edges = math.log(total_edges)\n",
    "    ad_degrees = np.count_nonzero(np.asarray(outer_mat), axis=1)\n",
    "#     print (ad_degrees)\n",
    "    bigram_degrees = np.count_nonzero(np.asarray(outer_mat), axis=0)\n",
    "#     print (bigram_degrees)\n",
    "    ads_count = get_csr_counts((core_mat>0), core_mat.shape, axis=0)\n",
    "    bigrams_count = get_csr_counts((core_mat>0), core_mat.shape, axis=1)\n",
    "    ads_core_index = np.where(ads_count>0)[0]\n",
    "    bigrams_core_index = np.where(bigrams_count>0)[0]\n",
    "#     ads_list_index = [x for x in range(core_mat.shape[0])]\n",
    "#     nonzero_edges = np.transpose(np.nonzero(core_mat))\n",
    "    summation = 0.0\n",
    "    for i in ads_core_index:\n",
    "        for j in bigrams_core_index:\n",
    "            if core_mat[i][j] == 0:\n",
    "                adj = 0\n",
    "            else:\n",
    "                adj = 1\n",
    "            if adj == 1:\n",
    "                summation += (adj - (ad_degrees[i] * bigram_degrees[j])/total_edges)\n",
    "\n",
    "#     nonzero_edges = np.transpose(np.nonzero(core_mat))\n",
    "#     summation = 0.0\n",
    "#     for k in range(nonzero_edges.shape[0]):\n",
    "#         ad_index = nonzero_edges[k][0]\n",
    "#         big_index = nonzero_edges[k][1]\n",
    "# #         print (ad_index)\n",
    "# #         print (big_index)\n",
    "# #         if core_mat[ad_index][big_index] != 0:\n",
    "# #             adj = 1\n",
    "# #         else:\n",
    "# #             adj = 0\n",
    "        \n",
    "#         summation += (1 - (ad_degrees[ad_index] * bigram_degrees[big_index])/(2*total_edges))\n",
    "    \n",
    "    return (summation/total_edges)*(math.log(len(ads_core_index)+1))\n",
    "\n",
    "def calculate_weighted_modularity_score(core_mat, outer_mat, total_edges, ads_count, bigrams_count):\n",
    "    ad_degrees = np.asarray(csr_matrix.sum(outer_mat, axis=1))\n",
    "    bigram_degrees = np.asarray(csr_matrix.sum(outer_mat, axis=0))\n",
    "    \n",
    "    ads_core_index = np.where(ads_count>0)[0]\n",
    "    bigrams_core_index = np.where(bigrams_count>1)[0]\n",
    "\n",
    "#     ads_list_index = [x for x in range(core_mat.shape[0])]\n",
    "#     nonzero_edges = np.transpose(np.nonzero(core_mat))\n",
    "    summation = 0.0\n",
    "    for i in ads_core_index:\n",
    "        for j in bigrams_core_index:\n",
    "#             print (i, j)\n",
    "            if core_mat[i, j] != 0:\n",
    "                summation += (core_mat[i, j] - (ad_degrees[i][0] * bigram_degrees[0][j])/total_edges)\n",
    "#     summation = 0.0\n",
    "#     for k in range(nonzero_edges.shape[0]):\n",
    "#         ad_index = nonzero_edges[k][0]\n",
    "#         big_index = nonzero_edges[k][1]\n",
    "#         summation += (outer_mat[ad_index][big_index] - (ad_degrees[ad_index] * bigram_degrees[big_index])/(2*total_edges))\n",
    "    \n",
    "    return (summation/total_edges)*(math.log(len(ads_core_index)+1))\n",
    "\n",
    "def calculate_pairwise_modularity(mat):\n",
    "    mat = np.asarray(mat.todense())\n",
    "    sim_scores = np.zeros((mat.shape[0], mat.shape[0]))\n",
    "    for i in range(mat.shape[0]):\n",
    "        for j in range(i+1, mat.shape[0]):\n",
    "#             print (\"i : {}, j : {}\".format(i,j))\n",
    "            if i == j:\n",
    "                continue\n",
    "#             print (len(mat[i]))\n",
    "            sim_scores[i][j] = calculate_modularity_score(np.vstack((mat[i], mat[j])))\n",
    "    \n",
    "    return sim_scores"
   ]
  },
  {
   "cell_type": "code",
   "execution_count": 187,
   "metadata": {},
   "outputs": [],
   "source": [
    "import math\n",
    "\n",
    "def get_tf_idf(csr_mat):\n",
    "    ads_count, bigrams_count = get_counts(csr_mat)\n",
    "    lil_mat = csr_mat.tolil()\n",
    "    for i in range(lil_mat.shape[0]):\n",
    "        for j in range(lil_mat.shape[1]):\n",
    "            lil_mat[i, j] = lil_mat[i, j] * (math.log((1 + lil_mat.shape[0])/(1 + bigrams_count[j])) + 1)\n",
    "    \n",
    "    return lil_mat.tocsr()"
   ]
  },
  {
   "cell_type": "markdown",
   "metadata": {},
   "source": [
    "### Coherence"
   ]
  },
  {
   "cell_type": "code",
   "execution_count": 188,
   "metadata": {},
   "outputs": [],
   "source": [
    "a = [[1, 0, 0, 0],\n",
    "    [0, 1, 1, 1],\n",
    "    [0, 1, 1, 1],\n",
    "    [0, 1, 1, 1]]\n",
    "csr_a = csr_matrix(a, dtype=float)\n",
    "\n",
    "csr_a = get_tf_idf(csr_a)"
   ]
  },
  {
   "cell_type": "code",
   "execution_count": 189,
   "metadata": {},
   "outputs": [
    {
     "data": {
      "text/plain": [
       "matrix([[1.91629073, 0.        , 0.        , 0.        ],\n",
       "        [0.        , 1.22314355, 1.22314355, 1.22314355],\n",
       "        [0.        , 1.22314355, 1.22314355, 1.22314355],\n",
       "        [0.        , 1.22314355, 1.22314355, 1.22314355]])"
      ]
     },
     "execution_count": 189,
     "metadata": {},
     "output_type": "execute_result"
    }
   ],
   "source": [
    "csr_a.todense()"
   ]
  },
  {
   "cell_type": "code",
   "execution_count": 190,
   "metadata": {},
   "outputs": [],
   "source": [
    "b = [[1, 0, 0, 0],\n",
    "    [0, 1, 1, 0],\n",
    "    [0, 1, 0, 1],\n",
    "    [0, 0, 1, 1]]\n",
    "csr_b = csr_matrix(b, dtype=float)\n",
    "\n",
    "csr_b = get_tf_idf(csr_b)"
   ]
  },
  {
   "cell_type": "code",
   "execution_count": 191,
   "metadata": {},
   "outputs": [
    {
     "data": {
      "text/plain": [
       "matrix([[1.91629073, 0.        , 0.        , 0.        ],\n",
       "        [0.        , 1.51082562, 1.51082562, 0.        ],\n",
       "        [0.        , 1.51082562, 0.        , 1.51082562],\n",
       "        [0.        , 0.        , 1.51082562, 1.51082562]])"
      ]
     },
     "execution_count": 191,
     "metadata": {},
     "output_type": "execute_result"
    }
   ],
   "source": [
    "csr_b.todense()"
   ]
  },
  {
   "cell_type": "code",
   "execution_count": 194,
   "metadata": {},
   "outputs": [
    {
     "name": "stdout",
     "output_type": "stream",
     "text": [
      "1.2231435513142097 1.8347153269713143 1.0986122886681098 1.0986122886681098 0.17506677687249747\n"
     ]
    }
   ],
   "source": [
    "s, o, c = get_all_subgraphs(csr_a, [1,2,3])\n",
    "ads_count, bigrams_count = get_counts(c)\n",
    "total_edges_weighted = csr_matrix.sum(csr_a)\n",
    "\n",
    "print (calculate_weighted_density(c, ads_count, bigrams_count), \n",
    "       calculate_weighted_fraudar_score(c, ads_count, bigrams_count), \n",
    "       calculate_weighted_edge_per_score_old(c, s, bigrams_count),\n",
    "       calculate_weighted_edge_per_score(c, s, bigrams_count),\n",
    "      calculate_weighted_modularity_score(c, s, total_edges_weighted, ads_count, bigrams_count))"
   ]
  },
  {
   "cell_type": "code",
   "execution_count": 195,
   "metadata": {},
   "outputs": [
    {
     "data": {
      "text/plain": [
       "matrix([[1.22314355, 1.22314355, 1.22314355],\n",
       "        [1.22314355, 1.22314355, 1.22314355],\n",
       "        [1.22314355, 1.22314355, 1.22314355]])"
      ]
     },
     "execution_count": 195,
     "metadata": {},
     "output_type": "execute_result"
    }
   ],
   "source": [
    "s.todense()"
   ]
  },
  {
   "cell_type": "code",
   "execution_count": 196,
   "metadata": {},
   "outputs": [
    {
     "name": "stdout",
     "output_type": "stream",
     "text": [
      "1.0072170825106606 1.5108256237659907 1.0986122886681098 0.6931471805599453 0.5145930436519702\n"
     ]
    }
   ],
   "source": [
    "s, o, c = get_all_subgraphs(csr_b, [1,2,3])\n",
    "ads_count, bigrams_count = get_counts(c)\n",
    "total_edges_weighted = csr_matrix.sum(csr_b)\n",
    "\n",
    "print (calculate_weighted_density(c, ads_count, bigrams_count), \n",
    "       calculate_weighted_fraudar_score(c, ads_count, bigrams_count), \n",
    "       calculate_weighted_edge_per_score_old(c, s, bigrams_count),\n",
    "       calculate_weighted_edge_per_score(c, s, bigrams_count),\n",
    "      calculate_weighted_modularity_score(c, s, total_edges_weighted, ads_count, bigrams_count))"
   ]
  },
  {
   "cell_type": "markdown",
   "metadata": {},
   "source": [
    "### Exclusivity"
   ]
  },
  {
   "cell_type": "code",
   "execution_count": 197,
   "metadata": {},
   "outputs": [],
   "source": [
    "a = [[1, 0, 0, 0],\n",
    "    [0, 1, 1, 0],\n",
    "    [0, 1, 1, 0],\n",
    "    [0, 0, 0, 1]]\n",
    "csr_a = csr_matrix(a, dtype=float)\n",
    "\n",
    "csr_a = get_tf_idf(csr_a)"
   ]
  },
  {
   "cell_type": "code",
   "execution_count": 198,
   "metadata": {},
   "outputs": [],
   "source": [
    "b = [[1, 0, 0, 0],\n",
    "    [1, 1, 1, 0],\n",
    "    [0, 1, 1, 1],\n",
    "    [0, 0, 0, 1]]\n",
    "csr_b = csr_matrix(b, dtype=float)\n",
    "\n",
    "csr_b = get_tf_idf(csr_b)"
   ]
  },
  {
   "cell_type": "code",
   "execution_count": 172,
   "metadata": {},
   "outputs": [
    {
     "name": "stdout",
     "output_type": "stream",
     "text": [
      "1.5108256237659907 1.5108256237659907 0.6931471805599453 0.6931471805599453 0.2608904752525247 0.2608904752525247\n"
     ]
    }
   ],
   "source": [
    "s, o, c = get_all_subgraphs(csr_a, [1,2])\n",
    "ads_count, bigrams_count = get_counts(c)\n",
    "total_edges_weighted = csr_matrix.sum(csr_a)\n",
    "\n",
    "print (calculate_weighted_density(c, ads_count, bigrams_count), \n",
    "       calculate_weighted_fraudar_score(c, ads_count, bigrams_count), \n",
    "       calculate_weighted_edge_per_score_old(c, s, bigrams_count),\n",
    "       calculate_weighted_edge_per_score(c, s, bigrams_count),\n",
    "      calculate_weighted_modularity_score(c, s, total_edges_weighted, ads_count, bigrams_count))"
   ]
  },
  {
   "cell_type": "code",
   "execution_count": 199,
   "metadata": {},
   "outputs": [
    {
     "name": "stdout",
     "output_type": "stream",
     "text": [
      "1.5108256237659907 1.5108256237659907 0.46209812037329684 0.46209812037329684 0.1373265360835137\n"
     ]
    }
   ],
   "source": [
    "s, o, c = get_all_subgraphs(csr_b, [1,2])\n",
    "ads_count, bigrams_count = get_counts(c)\n",
    "total_edges_weighted = csr_matrix.sum(csr_b)\n",
    "\n",
    "print (calculate_weighted_density(c, ads_count, bigrams_count), \n",
    "       calculate_weighted_fraudar_score(c, ads_count, bigrams_count), \n",
    "       calculate_weighted_edge_per_score_old(c, s, bigrams_count),\n",
    "       calculate_weighted_edge_per_score(c, s, bigrams_count),\n",
    "      calculate_weighted_modularity_score(c, s, total_edges_weighted, ads_count, bigrams_count))"
   ]
  },
  {
   "cell_type": "markdown",
   "metadata": {},
   "source": [
    "### Rarity"
   ]
  },
  {
   "cell_type": "code",
   "execution_count": 200,
   "metadata": {},
   "outputs": [],
   "source": [
    "a = [[1, 0, 0, 0],\n",
    "    [0, 1, 1, 0],\n",
    "    [0, 1, 1, 0],\n",
    "    [0, 0, 0, 1]]\n",
    "csr_a = csr_matrix(a, dtype=float)\n",
    "\n",
    "csr_a = get_tf_idf(csr_a)"
   ]
  },
  {
   "cell_type": "code",
   "execution_count": 201,
   "metadata": {},
   "outputs": [],
   "source": [
    "b = [[1, 1, 0, 0],\n",
    "    [0, 1, 1, 0],\n",
    "    [0, 1, 1, 1],\n",
    "    [0, 0, 1, 1]]\n",
    "csr_b = csr_matrix(b, dtype=float)\n",
    "\n",
    "csr_b = get_tf_idf(csr_b)"
   ]
  },
  {
   "cell_type": "code",
   "execution_count": 202,
   "metadata": {},
   "outputs": [
    {
     "name": "stdout",
     "output_type": "stream",
     "text": [
      "1.5108256237659907 1.5108256237659907 0.6931471805599453 0.6931471805599453 0.2608904752525247\n"
     ]
    }
   ],
   "source": [
    "s, o, c = get_all_subgraphs(csr_a, [1,2])\n",
    "ads_count, bigrams_count = get_counts(c)\n",
    "total_edges_weighted = csr_matrix.sum(csr_a)\n",
    "\n",
    "print (calculate_weighted_density(c, ads_count, bigrams_count), \n",
    "       calculate_weighted_fraudar_score(c, ads_count, bigrams_count), \n",
    "       calculate_weighted_edge_per_score_old(c, s, bigrams_count),\n",
    "       calculate_weighted_edge_per_score(c, s, bigrams_count),\n",
    "      calculate_weighted_modularity_score(c, s, total_edges_weighted, ads_count, bigrams_count))"
   ]
  },
  {
   "cell_type": "code",
   "execution_count": 203,
   "metadata": {},
   "outputs": [
    {
     "name": "stdout",
     "output_type": "stream",
     "text": [
      "1.2231435513142097 1.2231435513142097 0.38320836005227144 0.38320836005227144 0.09527951681583753\n"
     ]
    }
   ],
   "source": [
    "s, o, c = get_all_subgraphs(csr_b, [1,2])\n",
    "ads_count, bigrams_count = get_counts(c)\n",
    "total_edges_weighted = csr_matrix.sum(csr_b)\n",
    "\n",
    "print (calculate_weighted_density(c, ads_count, bigrams_count), \n",
    "       calculate_weighted_fraudar_score(c, ads_count, bigrams_count), \n",
    "       calculate_weighted_edge_per_score_old(c, s, bigrams_count),\n",
    "       calculate_weighted_edge_per_score(c, s, bigrams_count),\n",
    "      calculate_weighted_modularity_score(c, s, total_edges_weighted, ads_count, bigrams_count))"
   ]
  },
  {
   "cell_type": "markdown",
   "metadata": {},
   "source": [
    "### Support"
   ]
  },
  {
   "cell_type": "code",
   "execution_count": 204,
   "metadata": {},
   "outputs": [],
   "source": [
    "a = [[1, 0, 0, 0],\n",
    "    [0, 1, 1, 0],\n",
    "    [0, 1, 1, 0],\n",
    "    [0, 0, 0, 1]]\n",
    "csr_a = csr_matrix(a, dtype=float)\n",
    "\n",
    "csr_a = get_tf_idf(csr_a)"
   ]
  },
  {
   "cell_type": "code",
   "execution_count": 205,
   "metadata": {},
   "outputs": [],
   "source": [
    "b = [[1, 0, 0, 0],\n",
    "    [0, 1, 0, 0],\n",
    "    [0, 1, 0, 0],\n",
    "    [0, 0, 0, 1]]\n",
    "csr_b = csr_matrix(b, dtype=float)\n",
    "\n",
    "csr_b = get_tf_idf(csr_b)"
   ]
  },
  {
   "cell_type": "code",
   "execution_count": 206,
   "metadata": {},
   "outputs": [
    {
     "name": "stdout",
     "output_type": "stream",
     "text": [
      "1.5108256237659907 1.5108256237659907 0.6931471805599453 0.6931471805599453 0.2608904752525247\n"
     ]
    }
   ],
   "source": [
    "s, o, c = get_all_subgraphs(csr_a, [1,2])\n",
    "ads_count, bigrams_count = get_counts(c)\n",
    "total_edges_weighted = csr_matrix.sum(csr_a)\n",
    "\n",
    "print (calculate_weighted_density(c, ads_count, bigrams_count), \n",
    "       calculate_weighted_fraudar_score(c, ads_count, bigrams_count), \n",
    "       calculate_weighted_edge_per_score_old(c, s, bigrams_count),\n",
    "       calculate_weighted_edge_per_score(c, s, bigrams_count),\n",
    "      calculate_weighted_modularity_score(c, s, total_edges_weighted, ads_count, bigrams_count))"
   ]
  },
  {
   "cell_type": "code",
   "execution_count": 207,
   "metadata": {},
   "outputs": [
    {
     "name": "stdout",
     "output_type": "stream",
     "text": [
      "1.5108256237659907 1.0072170825106606 0.0 0.6931471805599453 0.27080862641763653\n"
     ]
    }
   ],
   "source": [
    "s, o, c = get_all_subgraphs(csr_b, [1,2])\n",
    "ads_count, bigrams_count = get_counts(c)\n",
    "total_edges_weighted = csr_matrix.sum(csr_b)\n",
    "\n",
    "print (calculate_weighted_density(c, ads_count, bigrams_count), \n",
    "       calculate_weighted_fraudar_score(c, ads_count, bigrams_count), \n",
    "       calculate_weighted_edge_per_score_old(c, s, bigrams_count),\n",
    "       calculate_weighted_edge_per_score(c, s, bigrams_count),\n",
    "      calculate_weighted_modularity_score(c, s, total_edges_weighted, ads_count, bigrams_count))"
   ]
  },
  {
   "cell_type": "markdown",
   "metadata": {},
   "source": [
    "### Support case 2"
   ]
  },
  {
   "cell_type": "code",
   "execution_count": 182,
   "metadata": {},
   "outputs": [],
   "source": [
    "a = [[1, 0, 0, 0, 0],\n",
    "    [0, 1, 1, 1, 1],\n",
    "    [0, 1, 1, 1, 1],\n",
    "    [0, 1, 1, 1, 1]]\n",
    "csr_a = csr_matrix(a, dtype=float)\n",
    "\n",
    "csr_a = get_tf_idf(csr_a)"
   ]
  },
  {
   "cell_type": "code",
   "execution_count": 183,
   "metadata": {},
   "outputs": [],
   "source": [
    "b = [[1, 0, 0, 0, 0],\n",
    "    [0, 1, 1, 0, 0],\n",
    "    [0, 1, 1, 0, 0],\n",
    "    [0, 1, 1, 0, 0]]\n",
    "csr_b = csr_matrix(b, dtype=float)\n",
    "\n",
    "csr_b = get_tf_idf(csr_b)"
   ]
  },
  {
   "cell_type": "code",
   "execution_count": 184,
   "metadata": {},
   "outputs": [
    {
     "name": "stdout",
     "output_type": "stream",
     "text": [
      "1.2231435513142097 2.0968175165386453 1.0986122886681098 1.0986122886681098 0.14160306758248487 0.14160306758248487\n"
     ]
    }
   ],
   "source": [
    "s, o, c = get_all_subgraphs(csr_a, [1,2,3])\n",
    "ads_count, bigrams_count = get_counts(c)\n",
    "total_edges_weighted = csr_matrix.sum(csr_a)\n",
    "\n",
    "print (calculate_weighted_density(c, ads_count, bigrams_count), \n",
    "       calculate_weighted_fraudar_score(c, ads_count, bigrams_count), \n",
    "       calculate_weighted_edge_per_score(c, o, bigrams_count),\n",
    "       calculate_weighted_edge_per_score(c, s, bigrams_count),\n",
    "       calculate_weighted_modularity_score(c, o, total_edges_weighted, ads_count, bigrams_count),\n",
    "      calculate_weighted_modularity_score(c, s, total_edges_weighted, ads_count, bigrams_count))"
   ]
  },
  {
   "cell_type": "code",
   "execution_count": 185,
   "metadata": {},
   "outputs": [
    {
     "name": "stdout",
     "output_type": "stream",
     "text": [
      "1.2231435513142097 1.2231435513142097 0.6931471805599453 0.46209812037329684 0.2737524074755741 0.12024752822169282\n"
     ]
    }
   ],
   "source": [
    "s, o, c = get_all_subgraphs(csr_b, [1,2])\n",
    "ads_count, bigrams_count = get_counts(c)\n",
    "total_edges_weighted = csr_matrix.sum(csr_b)\n",
    "\n",
    "print (calculate_weighted_density(c, ads_count, bigrams_count), \n",
    "       calculate_weighted_fraudar_score(c, ads_count, bigrams_count), \n",
    "       calculate_weighted_edge_per_score(c, o, bigrams_count),\n",
    "       calculate_weighted_edge_per_score(c, s, bigrams_count),\n",
    "       calculate_weighted_modularity_score(c, o, total_edges_weighted, ads_count, bigrams_count),\n",
    "      calculate_weighted_modularity_score(c, s, total_edges_weighted, ads_count, bigrams_count))"
   ]
  },
  {
   "cell_type": "markdown",
   "metadata": {},
   "source": [
    "### "
   ]
  },
  {
   "cell_type": "code",
   "execution_count": null,
   "metadata": {},
   "outputs": [],
   "source": []
  }
 ],
 "metadata": {
  "kernelspec": {
   "display_name": "Python 3",
   "language": "python",
   "name": "python3"
  },
  "language_info": {
   "codemirror_mode": {
    "name": "ipython",
    "version": 3
   },
   "file_extension": ".py",
   "mimetype": "text/x-python",
   "name": "python",
   "nbconvert_exporter": "python",
   "pygments_lexer": "ipython3",
   "version": "3.7.3"
  }
 },
 "nbformat": 4,
 "nbformat_minor": 2
}
